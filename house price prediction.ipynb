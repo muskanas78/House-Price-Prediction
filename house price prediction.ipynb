{
  "nbformat": 4,
  "nbformat_minor": 0,
  "metadata": {
    "colab": {
      "provenance": []
    },
    "kernelspec": {
      "name": "python3",
      "display_name": "Python 3"
    },
    "language_info": {
      "name": "python"
    }
  },
  "cells": [
    {
      "cell_type": "markdown",
      "source": [
        "**import libraries**"
      ],
      "metadata": {
        "id": "gwWrLc1wOiQ5"
      }
    },
    {
      "cell_type": "code",
      "execution_count": 2,
      "metadata": {
        "id": "MVYMTNnqNjj9"
      },
      "outputs": [],
      "source": [
        "import pandas as pd\n",
        "import numpy as np\n",
        "from sklearn.linear_model import LinearRegression\n",
        "from sklearn.metrics import mean_squared_error, r2_score\n",
        "from sklearn.preprocessing import StandardScaler, PolynomialFeatures\n",
        "from sklearn.model_selection import train_test_split, cross_val_score"
      ]
    },
    {
      "cell_type": "markdown",
      "source": [
        "**pre-processing**"
      ],
      "metadata": {
        "id": "kicQ0dJlOY0s"
      }
    },
    {
      "cell_type": "code",
      "source": [
        "df = pd.read_csv('train.csv')\n",
        "print(df.head())\n",
        "\n",
        "print(df.isnull().sum())\n",
        "df['TBath'] = df['FullBath'] + df['HalfBath']\n",
        "\n",
        "x = df[['LotArea', 'BedroomAbvGr', 'TBath']]\n",
        "y = df['SalePrice']\n",
        "\n",
        "scaler = StandardScaler()\n",
        "x_scaled = scaler.fit_transform(x)\n",
        "\n",
        "poly = PolynomialFeatures(degree=2, include_bias=False)\n",
        "x_poly = poly.fit_transform(x_scaled)\n",
        "\n",
        "x_train, x_test, y_train, y_test = train_test_split(x_poly, y, test_size=0.2, random_state=42)"
      ],
      "metadata": {
        "colab": {
          "base_uri": "https://localhost:8080/"
        },
        "id": "hh_62lYeOgKy",
        "outputId": "1e025f31-cc83-4835-f9a8-272bf93faf28"
      },
      "execution_count": 13,
      "outputs": [
        {
          "output_type": "stream",
          "name": "stdout",
          "text": [
            "   Id  MSSubClass MSZoning  LotFrontage  LotArea Street Alley LotShape  \\\n",
            "0   1          60       RL         65.0     8450   Pave   NaN      Reg   \n",
            "1   2          20       RL         80.0     9600   Pave   NaN      Reg   \n",
            "2   3          60       RL         68.0    11250   Pave   NaN      IR1   \n",
            "3   4          70       RL         60.0     9550   Pave   NaN      IR1   \n",
            "4   5          60       RL         84.0    14260   Pave   NaN      IR1   \n",
            "\n",
            "  LandContour Utilities  ... PoolArea PoolQC Fence MiscFeature MiscVal MoSold  \\\n",
            "0         Lvl    AllPub  ...        0    NaN   NaN         NaN       0      2   \n",
            "1         Lvl    AllPub  ...        0    NaN   NaN         NaN       0      5   \n",
            "2         Lvl    AllPub  ...        0    NaN   NaN         NaN       0      9   \n",
            "3         Lvl    AllPub  ...        0    NaN   NaN         NaN       0      2   \n",
            "4         Lvl    AllPub  ...        0    NaN   NaN         NaN       0     12   \n",
            "\n",
            "  YrSold  SaleType  SaleCondition  SalePrice  \n",
            "0   2008        WD         Normal     208500  \n",
            "1   2007        WD         Normal     181500  \n",
            "2   2008        WD         Normal     223500  \n",
            "3   2006        WD        Abnorml     140000  \n",
            "4   2008        WD         Normal     250000  \n",
            "\n",
            "[5 rows x 81 columns]\n",
            "Id                 0\n",
            "MSSubClass         0\n",
            "MSZoning           0\n",
            "LotFrontage      259\n",
            "LotArea            0\n",
            "                ... \n",
            "MoSold             0\n",
            "YrSold             0\n",
            "SaleType           0\n",
            "SaleCondition      0\n",
            "SalePrice          0\n",
            "Length: 81, dtype: int64\n"
          ]
        }
      ]
    },
    {
      "cell_type": "code",
      "source": [
        "print(x)\n",
        "print(x_poly)\n",
        "print(y)"
      ],
      "metadata": {
        "colab": {
          "base_uri": "https://localhost:8080/"
        },
        "id": "G_fp_tgzSabd",
        "outputId": "480e31ae-ff8e-4ca3-f700-cb7826b97ac1"
      },
      "execution_count": 14,
      "outputs": [
        {
          "output_type": "stream",
          "name": "stdout",
          "text": [
            "      LotArea  BedroomAbvGr  TBath\n",
            "0        8450             3      3\n",
            "1        9600             3      2\n",
            "2       11250             3      3\n",
            "3        9550             3      1\n",
            "4       14260             4      3\n",
            "...       ...           ...    ...\n",
            "1455     7917             3      3\n",
            "1456    13175             3      2\n",
            "1457     9042             4      2\n",
            "1458     9717             2      1\n",
            "1459     9937             3      2\n",
            "\n",
            "[1460 rows x 3 columns]\n",
            "[[-0.20714171  0.16377912  1.32385068 ...  0.0268236   0.2168191\n",
            "   1.75258063]\n",
            " [-0.09188637  0.16377912  0.06550303 ...  0.0268236   0.01072803\n",
            "   0.00429065]\n",
            " [ 0.07347998  0.16377912  1.32385068 ...  0.0268236   0.2168191\n",
            "   1.75258063]\n",
            " ...\n",
            " [-0.14781027  1.39002276  0.06550303 ...  1.93216328  0.0910507\n",
            "   0.00429065]\n",
            " [-0.08016039 -1.06246453 -1.19284462 ...  1.12883087  1.2673551\n",
            "   1.4228783 ]\n",
            " [-0.05811155  0.16377912  0.06550303 ...  0.0268236   0.01072803\n",
            "   0.00429065]]\n",
            "0       208500\n",
            "1       181500\n",
            "2       223500\n",
            "3       140000\n",
            "4       250000\n",
            "         ...  \n",
            "1455    175000\n",
            "1456    210000\n",
            "1457    266500\n",
            "1458    142125\n",
            "1459    147500\n",
            "Name: SalePrice, Length: 1460, dtype: int64\n"
          ]
        }
      ]
    },
    {
      "cell_type": "markdown",
      "source": [
        "**linear regression model**"
      ],
      "metadata": {
        "id": "gR-Er4rrWu2j"
      }
    },
    {
      "cell_type": "code",
      "source": [
        "model = LinearRegression()\n",
        "model.fit(x_train, y_train)\n",
        "\n",
        "y_pred = model.predict(x_test)"
      ],
      "metadata": {
        "id": "RH9rhXTWSakB"
      },
      "execution_count": 15,
      "outputs": []
    },
    {
      "cell_type": "markdown",
      "source": [
        "**evaluation**"
      ],
      "metadata": {
        "id": "pEPggLEJXCKw"
      }
    },
    {
      "cell_type": "code",
      "source": [
        "mse = mean_squared_error(y_test, y_pred)\n",
        "r2 = r2_score(y_test, y_pred)\n",
        "\n",
        "print(\"Mean Squared Error:\", mse)\n",
        "print(\"R-squared:\", r2)"
      ],
      "metadata": {
        "colab": {
          "base_uri": "https://localhost:8080/"
        },
        "id": "pTP7UXZdW_Cb",
        "outputId": "c7a6f4cd-25d1-4023-826a-da23ed5d49ca"
      },
      "execution_count": 16,
      "outputs": [
        {
          "output_type": "stream",
          "name": "stdout",
          "text": [
            "Mean Squared Error: 4502939620.881385\n",
            "R-squared: 0.4129402714760536\n"
          ]
        }
      ]
    },
    {
      "cell_type": "markdown",
      "source": [
        "**cross-validation and prediction**"
      ],
      "metadata": {
        "id": "24ePTlnrXb33"
      }
    },
    {
      "cell_type": "code",
      "source": [
        "cvs = cross_val_score(model, x_poly, y, cv=5)\n",
        "print(\"Cross-Validation Scores:\", cvs)\n",
        "print(\"Mean Cross-Validation Score:\", cvs.mean())\n",
        "\n",
        "new_data = pd.DataFrame({'LotArea': [1500], 'BedroomAbvGr': [2], 'TBath':[1]})\n",
        "\n",
        "new_datas = scaler.transform(new_data)\n",
        "new_datap = poly.transform(new_datas)\n",
        "\n",
        "prediction = model.predict(new_datap)\n",
        "\n",
        "formatted_prediction = \"${:,.3f}\".format(prediction[0])\n",
        "print(\"Predicted Price:\", formatted_prediction)"
      ],
      "metadata": {
        "colab": {
          "base_uri": "https://localhost:8080/"
        },
        "id": "A4IMQ24ZXiCt",
        "outputId": "a48b2bbe-b218-4e03-ab8c-e53971c3c50a"
      },
      "execution_count": 35,
      "outputs": [
        {
          "output_type": "stream",
          "name": "stdout",
          "text": [
            "Cross-Validation Scores: [0.45858925 0.20540491 0.43593608 0.41292612 0.32072538]\n",
            "Mean Cross-Validation Score: 0.3667163491724095\n",
            "Predicted Price: $105,253.957\n"
          ]
        }
      ]
    }
  ]
}